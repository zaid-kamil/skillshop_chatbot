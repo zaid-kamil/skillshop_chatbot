{
 "metadata": {
  "language_info": {
   "codemirror_mode": {
    "name": "ipython",
    "version": 3
   },
   "file_extension": ".py",
   "mimetype": "text/x-python",
   "name": "python",
   "nbconvert_exporter": "python",
   "pygments_lexer": "ipython3",
   "version": "3.8.3-final"
  },
  "orig_nbformat": 2,
  "kernelspec": {
   "name": "python_defaultSpec_1598864396951",
   "display_name": "Python 3.8.3 64-bit"
  }
 },
 "nbformat": 4,
 "nbformat_minor": 2,
 "cells": [
  {
   "cell_type": "code",
   "execution_count": 59,
   "metadata": {},
   "outputs": [],
   "source": [
    "import pandas as pd\n",
    "import numpy as np"
   ]
  },
  {
   "cell_type": "code",
   "execution_count": 60,
   "metadata": {},
   "outputs": [],
   "source": [
    "qdf = pd.read_csv('query_dataset.csv')"
   ]
  },
  {
   "cell_type": "code",
   "execution_count": 61,
   "metadata": {},
   "outputs": [
    {
     "output_type": "execute_result",
     "data": {
      "text/plain": "                                            query       tag\n0   what is the basic distance for free delivery?  delivery\n1               how far can you deliver for free?  delivery\n2                     is free delivery available?  delivery\n3                            what is in the menu?      menu\n4                what are the options in the menu      menu\n5                                show me the menu      menu\n6                              is there any offer    offers\n7                what are the offers on the pizza    offers\n8                  are discount offers available?    offers\n9                              when do you close?    timing\n10                              when do you open?    timing\n11                          what is closing time?    timing\n12                               how do we reach?   address\n13                  are you available in lucknow?   address\n14                         where are you located?   address\n15                            are you open at 9am    timing\n16                      is there any pizza combos     combo\n17                what is combo offer of the week     combo\n18                         available combo offers     combo\n19                   are there burgers available?      menu\n20                   do you deliver free of cost?  delivery",
      "text/html": "<div>\n<style scoped>\n    .dataframe tbody tr th:only-of-type {\n        vertical-align: middle;\n    }\n\n    .dataframe tbody tr th {\n        vertical-align: top;\n    }\n\n    .dataframe thead th {\n        text-align: right;\n    }\n</style>\n<table border=\"1\" class=\"dataframe\">\n  <thead>\n    <tr style=\"text-align: right;\">\n      <th></th>\n      <th>query</th>\n      <th>tag</th>\n    </tr>\n  </thead>\n  <tbody>\n    <tr>\n      <th>0</th>\n      <td>what is the basic distance for free delivery?</td>\n      <td>delivery</td>\n    </tr>\n    <tr>\n      <th>1</th>\n      <td>how far can you deliver for free?</td>\n      <td>delivery</td>\n    </tr>\n    <tr>\n      <th>2</th>\n      <td>is free delivery available?</td>\n      <td>delivery</td>\n    </tr>\n    <tr>\n      <th>3</th>\n      <td>what is in the menu?</td>\n      <td>menu</td>\n    </tr>\n    <tr>\n      <th>4</th>\n      <td>what are the options in the menu</td>\n      <td>menu</td>\n    </tr>\n    <tr>\n      <th>5</th>\n      <td>show me the menu</td>\n      <td>menu</td>\n    </tr>\n    <tr>\n      <th>6</th>\n      <td>is there any offer</td>\n      <td>offers</td>\n    </tr>\n    <tr>\n      <th>7</th>\n      <td>what are the offers on the pizza</td>\n      <td>offers</td>\n    </tr>\n    <tr>\n      <th>8</th>\n      <td>are discount offers available?</td>\n      <td>offers</td>\n    </tr>\n    <tr>\n      <th>9</th>\n      <td>when do you close?</td>\n      <td>timing</td>\n    </tr>\n    <tr>\n      <th>10</th>\n      <td>when do you open?</td>\n      <td>timing</td>\n    </tr>\n    <tr>\n      <th>11</th>\n      <td>what is closing time?</td>\n      <td>timing</td>\n    </tr>\n    <tr>\n      <th>12</th>\n      <td>how do we reach?</td>\n      <td>address</td>\n    </tr>\n    <tr>\n      <th>13</th>\n      <td>are you available in lucknow?</td>\n      <td>address</td>\n    </tr>\n    <tr>\n      <th>14</th>\n      <td>where are you located?</td>\n      <td>address</td>\n    </tr>\n    <tr>\n      <th>15</th>\n      <td>are you open at 9am</td>\n      <td>timing</td>\n    </tr>\n    <tr>\n      <th>16</th>\n      <td>is there any pizza combos</td>\n      <td>combo</td>\n    </tr>\n    <tr>\n      <th>17</th>\n      <td>what is combo offer of the week</td>\n      <td>combo</td>\n    </tr>\n    <tr>\n      <th>18</th>\n      <td>available combo offers</td>\n      <td>combo</td>\n    </tr>\n    <tr>\n      <th>19</th>\n      <td>are there burgers available?</td>\n      <td>menu</td>\n    </tr>\n    <tr>\n      <th>20</th>\n      <td>do you deliver free of cost?</td>\n      <td>delivery</td>\n    </tr>\n  </tbody>\n</table>\n</div>"
     },
     "metadata": {},
     "execution_count": 61
    }
   ],
   "source": [
    "qdf"
   ]
  },
  {
   "cell_type": "code",
   "execution_count": 62,
   "metadata": {},
   "outputs": [
    {
     "output_type": "execute_result",
     "data": {
      "text/plain": "['what is the basic distance for free delivery?',\n 'how far can you deliver for free?',\n 'is free delivery available?',\n 'what is in the menu?',\n 'what are the options in the menu',\n 'show me the menu',\n 'is there any offer',\n 'what are the offers on the pizza',\n 'are discount offers available?',\n 'when do you close?',\n 'when do you open?',\n 'what is closing time?',\n 'how do we reach?',\n 'are you available in lucknow?',\n 'where are you located?',\n 'are you open at 9am',\n 'is there any pizza combos',\n 'what is combo offer of the week',\n 'available combo offers',\n 'are there burgers available?',\n 'do you deliver free of cost?']"
     },
     "metadata": {},
     "execution_count": 62
    }
   ],
   "source": [
    "X  = qdf['query'].tolist()\n",
    "X"
   ]
  },
  {
   "cell_type": "code",
   "execution_count": 63,
   "metadata": {},
   "outputs": [
    {
     "output_type": "execute_result",
     "data": {
      "text/plain": "['delivery',\n 'delivery',\n 'delivery',\n 'menu',\n 'menu',\n 'menu',\n 'offers',\n 'offers',\n 'offers',\n 'timing',\n 'timing',\n 'timing',\n 'address',\n 'address',\n 'address',\n 'timing',\n 'combo',\n 'combo',\n 'combo',\n 'menu',\n 'delivery']"
     },
     "metadata": {},
     "execution_count": 63
    }
   ],
   "source": [
    "y = qdf['tag'].tolist()\n",
    "y"
   ]
  },
  {
   "cell_type": "code",
   "execution_count": 64,
   "metadata": {
    "tags": []
   },
   "outputs": [
    {
     "output_type": "stream",
     "name": "stdout",
     "text": "[[0 0 1 0 0 0 0 0 0 0 1 0 1 0 1 0 0 0 0 0 0 0 0 0 0 0]\n [0 0 0 0 0 0 0 0 0 1 0 0 0 1 1 0 0 0 0 0 0 0 0 0 0 0]\n [0 1 0 0 0 0 0 0 0 0 1 0 0 0 1 0 0 0 0 0 0 0 0 0 0 0]\n [0 0 0 0 0 0 0 0 0 0 0 0 0 0 0 0 0 1 0 0 0 0 0 0 0 0]\n [0 0 0 0 0 0 0 0 0 0 0 0 0 0 0 0 0 1 0 0 0 1 0 0 0 0]\n [0 0 0 0 0 0 0 0 0 0 0 0 0 0 0 0 0 1 0 0 0 0 0 0 0 0]\n [0 0 0 0 0 0 0 0 0 0 0 0 0 0 0 0 0 0 1 0 0 0 0 0 0 0]\n [0 0 0 0 0 0 0 0 0 0 0 0 0 0 0 0 0 0 0 1 0 0 1 0 0 0]\n [0 1 0 0 0 0 0 0 0 0 0 1 0 0 0 0 0 0 0 1 0 0 0 0 0 0]\n [0 0 0 0 1 0 0 0 0 0 0 0 0 0 0 0 0 0 0 0 0 0 0 0 0 0]\n [0 0 0 0 0 0 0 0 0 0 0 0 0 0 0 0 0 0 0 0 1 0 0 0 0 0]\n [0 0 0 0 0 1 0 0 0 0 0 0 0 0 0 0 0 0 0 0 0 0 0 0 1 0]\n [0 0 0 0 0 0 0 0 0 0 0 0 0 0 0 0 0 0 0 0 0 0 0 1 0 0]\n [0 1 0 0 0 0 0 0 0 0 0 0 0 0 0 0 1 0 0 0 0 0 0 0 0 0]\n [0 0 0 0 0 0 0 0 0 0 0 0 0 0 0 1 0 0 0 0 0 0 0 0 0 0]\n [1 0 0 0 0 0 0 0 0 0 0 0 0 0 0 0 0 0 0 0 1 0 0 0 0 0]\n [0 0 0 0 0 0 0 1 0 0 0 0 0 0 0 0 0 0 0 0 0 0 1 0 0 0]\n [0 0 0 0 0 0 1 0 0 0 0 0 0 0 0 0 0 0 1 0 0 0 0 0 0 1]\n [0 1 0 0 0 0 1 0 0 0 0 0 0 0 0 0 0 0 0 1 0 0 0 0 0 0]\n [0 1 0 1 0 0 0 0 0 0 0 0 0 0 0 0 0 0 0 0 0 0 0 0 0 0]\n [0 0 0 0 0 0 0 0 1 1 0 0 0 0 1 0 0 0 0 0 0 0 0 0 0 0]]\n"
    }
   ],
   "source": [
    "from sklearn.feature_extraction.text import CountVectorizer\n",
    "vectorizer = CountVectorizer(stop_words='english')\n",
    "X = vectorizer.fit_transform(X)\n",
    "print(X.toarray())"
   ]
  },
  {
   "cell_type": "code",
   "execution_count": 65,
   "metadata": {
    "tags": []
   },
   "outputs": [
    {
     "output_type": "stream",
     "name": "stdout",
     "text": "['9am', 'available', 'basic', 'burgers', 'close', 'closing', 'combo', 'combos', 'cost', 'deliver', 'delivery', 'discount', 'distance', 'far', 'free', 'located', 'lucknow', 'menu', 'offer', 'offers', 'open', 'options', 'pizza', 'reach', 'time', 'week']\n"
    }
   ],
   "source": [
    "print(vectorizer.get_feature_names())"
   ]
  },
  {
   "cell_type": "code",
   "execution_count": 66,
   "metadata": {},
   "outputs": [
    {
     "output_type": "execute_result",
     "data": {
      "text/plain": "array([[0, 0, 1, 0, 0, 0],\n       [0, 0, 1, 0, 0, 0],\n       [0, 0, 1, 0, 0, 0],\n       [0, 0, 0, 1, 0, 0],\n       [0, 0, 0, 1, 0, 0],\n       [0, 0, 0, 1, 0, 0],\n       [0, 0, 0, 0, 1, 0],\n       [0, 0, 0, 0, 1, 0],\n       [0, 0, 0, 0, 1, 0],\n       [0, 0, 0, 0, 0, 1],\n       [0, 0, 0, 0, 0, 1],\n       [0, 0, 0, 0, 0, 1],\n       [1, 0, 0, 0, 0, 0],\n       [1, 0, 0, 0, 0, 0],\n       [1, 0, 0, 0, 0, 0],\n       [0, 0, 0, 0, 0, 1],\n       [0, 1, 0, 0, 0, 0],\n       [0, 1, 0, 0, 0, 0],\n       [0, 1, 0, 0, 0, 0],\n       [0, 0, 0, 1, 0, 0],\n       [0, 0, 1, 0, 0, 0]])"
     },
     "metadata": {},
     "execution_count": 66
    }
   ],
   "source": [
    "from sklearn.preprocessing import LabelBinarizer\n",
    "lb = LabelBinarizer()\n",
    "y = lb.fit_transform(y)\n",
    "y"
   ]
  },
  {
   "cell_type": "code",
   "execution_count": 67,
   "metadata": {
    "tags": []
   },
   "outputs": [
    {
     "output_type": "stream",
     "name": "stdout",
     "text": "['address' 'combo' 'delivery' 'menu' 'offers' 'timing']\n"
    }
   ],
   "source": [
    "print(lb.classes_)"
   ]
  },
  {
   "cell_type": "code",
   "execution_count": 68,
   "metadata": {},
   "outputs": [],
   "source": [
    "from sklearn.ensemble import RandomForestClassifier"
   ]
  },
  {
   "cell_type": "code",
   "execution_count": 69,
   "metadata": {},
   "outputs": [
    {
     "output_type": "execute_result",
     "data": {
      "text/plain": "RandomForestClassifier(random_state=1)"
     },
     "metadata": {},
     "execution_count": 69
    }
   ],
   "source": [
    "model = RandomForestClassifier(random_state=1)\n",
    "model.fit(X,y) # algorithm with learn to identify tags"
   ]
  },
  {
   "cell_type": "code",
   "execution_count": 70,
   "metadata": {
    "tags": []
   },
   "outputs": [
    {
     "output_type": "stream",
     "name": "stdout",
     "text": "[[0 0 0 0 0 0 0 0 0 1 0 0 0 1 1 0 0 0 0 0 0 0 0 0 0 0]]\n"
    }
   ],
   "source": [
    "# testing\n",
    "text  = 'how far can you deliver for free?'\n",
    "input_data = vectorizer.transform([text])\n",
    "print(input_data.toarray())"
   ]
  },
  {
   "cell_type": "code",
   "execution_count": 71,
   "metadata": {},
   "outputs": [],
   "source": [
    "result = model.predict(input_data) # answer"
   ]
  },
  {
   "cell_type": "code",
   "execution_count": 72,
   "metadata": {},
   "outputs": [
    {
     "output_type": "execute_result",
     "data": {
      "text/plain": "array(['delivery'], dtype='<U8')"
     },
     "metadata": {},
     "execution_count": 72
    }
   ],
   "source": [
    "lb.inverse_transform(result)"
   ]
  },
  {
   "cell_type": "code",
   "execution_count": 73,
   "metadata": {
    "tags": []
   },
   "outputs": [
    {
     "output_type": "stream",
     "name": "stdout",
     "text": "['menu']\n"
    }
   ],
   "source": [
    "# testing\n",
    "text  = 'menu?'\n",
    "input_data = vectorizer.transform([text])\n",
    "result = model.predict(input_data) # answer\n",
    "print(lb.inverse_transform(result))"
   ]
  },
  {
   "cell_type": "code",
   "execution_count": 74,
   "metadata": {
    "tags": []
   },
   "outputs": [
    {
     "output_type": "stream",
     "name": "stdout",
     "text": "['delivery']\n"
    }
   ],
   "source": [
    "# testing\n",
    "text  = 'deliver for free?'\n",
    "input_data = vectorizer.transform([text])\n",
    "result = model.predict(input_data) # answer\n",
    "print(lb.inverse_transform(result))"
   ]
  },
  {
   "cell_type": "code",
   "execution_count": 75,
   "metadata": {
    "tags": []
   },
   "outputs": [
    {
     "output_type": "stream",
     "name": "stdout",
     "text": "['menu']\n"
    }
   ],
   "source": [
    "text =\"show me the menu\t\"\n",
    "input_data = vectorizer.transform([text])\n",
    "result = model.predict(input_data) # answer\n",
    "print(lb.inverse_transform(result))"
   ]
  },
  {
   "cell_type": "code",
   "execution_count": 76,
   "metadata": {
    "tags": []
   },
   "outputs": [
    {
     "output_type": "stream",
     "name": "stdout",
     "text": "['address']\n"
    }
   ],
   "source": [
    "text =\"are you available in lucknow?\"\n",
    "input_data = vectorizer.transform([text])\n",
    "result = model.predict(input_data) # answer\n",
    "print(lb.inverse_transform(result))"
   ]
  },
  {
   "cell_type": "code",
   "execution_count": 77,
   "metadata": {
    "tags": []
   },
   "outputs": [
    {
     "output_type": "stream",
     "name": "stdout",
     "text": "['combo']\n"
    }
   ],
   "source": [
    "text =\"combo offer of the week\"\n",
    "input_data = vectorizer.transform([text])\n",
    "result = model.predict(input_data) # answer\n",
    "print(lb.inverse_transform(result))"
   ]
  },
  {
   "cell_type": "code",
   "execution_count": 78,
   "metadata": {
    "tags": []
   },
   "outputs": [],
   "source": [
    "text= 'are you open at 9am'\n",
    "input_data = vectorizer.transform([text])\n",
    "result = model.predict(input_data) # answer\n",
    "ai_tag = lb.inverse_transform(result)[0]"
   ]
  },
  {
   "cell_type": "markdown",
   "metadata": {},
   "source": [
    "# getting bot reply"
   ]
  },
  {
   "cell_type": "code",
   "execution_count": 92,
   "metadata": {},
   "outputs": [],
   "source": [
    "rdf = pd.read_csv('bot_response_dataset.csv')"
   ]
  },
  {
   "cell_type": "code",
   "execution_count": 98,
   "metadata": {},
   "outputs": [],
   "source": [
    "resultdf = rdf[rdf['tag']==tag] "
   ]
  },
  {
   "cell_type": "code",
   "execution_count": 99,
   "metadata": {},
   "outputs": [],
   "source": [
    "responses = resultdf.response.to_list()"
   ]
  },
  {
   "cell_type": "code",
   "execution_count": 100,
   "metadata": {},
   "outputs": [],
   "source": [
    "import random"
   ]
  },
  {
   "cell_type": "code",
   "execution_count": 101,
   "metadata": {},
   "outputs": [
    {
     "output_type": "execute_result",
     "data": {
      "text/plain": "'our address is 121/2312, hazratganj, lucknow'"
     },
     "metadata": {},
     "execution_count": 101
    }
   ],
   "source": [
    "random.choice(responses)"
   ]
  },
  {
   "cell_type": "code",
   "execution_count": 84,
   "metadata": {},
   "outputs": [],
   "source": [
    "import pickle"
   ]
  },
  {
   "cell_type": "code",
   "execution_count": 85,
   "metadata": {},
   "outputs": [],
   "source": [
    "# classes\n",
    "# binarzer\n",
    "# model \n",
    "# vectorizer\n",
    "model_data = {\n",
    "    'binarizer': lb,\n",
    "    'model' : model,\n",
    "    'vectorizer':vectorizer,\n",
    "    'classes':lb.classes_.tolist()\n",
    "}"
   ]
  },
  {
   "cell_type": "code",
   "execution_count": 86,
   "metadata": {},
   "outputs": [],
   "source": [
    "with open('model.pkl','wb') as f:\n",
    "    pickle.dump(model_data, f)"
   ]
  },
  {
   "cell_type": "markdown",
   "metadata": {},
   "source": [
    "# testing saved model"
   ]
  },
  {
   "cell_type": "code",
   "execution_count": 87,
   "metadata": {},
   "outputs": [],
   "source": [
    "model_loaded_data = {}\n",
    "\n",
    "with open('model.pkl','rb') as f:\n",
    "    model_loaded_data = pickle.loads(f.read())"
   ]
  },
  {
   "cell_type": "code",
   "execution_count": 88,
   "metadata": {},
   "outputs": [],
   "source": [
    "def predict_tag(txt='Hello world', vectorizer=None,\n",
    "                model=None,binarizer=None,*args,**kwargs):\n",
    "    input_vector = vectorizer.transform([txt])\n",
    "    result = model.predict(input_vector)\n",
    "    output_tag = lb.inverse_transform(result)\n",
    "    return output_tag[0]"
   ]
  },
  {
   "cell_type": "code",
   "execution_count": 89,
   "metadata": {},
   "outputs": [],
   "source": [
    "def get_bot_reply(predicted_tag):\n",
    "    resultdf = rdf[rdf['tag']==predicted_tag] \n",
    "    responses = resultdf.response.to_list()\n",
    "    return random.choice(responses)"
   ]
  },
  {
   "cell_type": "code",
   "execution_count": 104,
   "metadata": {
    "tags": []
   },
   "outputs": [
    {
     "output_type": "execute_result",
     "data": {
      "text/plain": "'buy 2 mexican pizza get 1 cold drink free, buy 5 large pizza combo at Rs. 2000 only'"
     },
     "metadata": {},
     "execution_count": 104
    }
   ],
   "source": [
    "text =\"combo offer of the week\"\n",
    "tag = predict_tag(text,**model_loaded_data)\n",
    "get_bot_reply(tag)"
   ]
  },
  {
   "cell_type": "code",
   "execution_count": 106,
   "metadata": {},
   "outputs": [
    {
     "output_type": "execute_result",
     "data": {
      "text/plain": "'our address is 121/2312, hazratganj, lucknow'"
     },
     "metadata": {},
     "execution_count": 106
    }
   ],
   "source": [
    "text= 'are you available in lucknow?'\n",
    "tag = predict_tag(text,**model_loaded_data)\n",
    "get_bot_reply(tag)"
   ]
  },
  {
   "cell_type": "code",
   "execution_count": null,
   "metadata": {},
   "outputs": [],
   "source": []
  }
 ]
}